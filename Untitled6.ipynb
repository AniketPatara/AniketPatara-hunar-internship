{
  "nbformat": 4,
  "nbformat_minor": 0,
  "metadata": {
    "colab": {
      "provenance": []
    },
    "kernelspec": {
      "name": "python3",
      "display_name": "Python 3"
    },
    "language_info": {
      "name": "python"
    }
  },
  "cells": [
    {
      "cell_type": "code",
      "source": [
        "def chatbot_response(user_input):\n",
        "  user_input = user_input.lower()\n",
        "\n",
        "  if \"weather\" in user_input:\n",
        "    return \"The weather is sunny with a chance of rainbows.\"\n",
        "  elif \"time\" in user_input:\n",
        "    return \"The current time is 2:00 PM.\"\n",
        "  elif \"hello\" in user_input or \"hi\" in user_input:\n",
        "    return \"Hello! How can I assist you today?\"\n",
        "  elif \"help\" in user_input:\n",
        "    return \"I can tell you the weather, the time, or just chat with you!\"\n",
        "  else:\n",
        "    return \"I'm not sure how to respond to that. Can you please ask something else?\"\n",
        "\n",
        "# User Interaction\n",
        "# Move the main function outside of chatbot_response\n",
        "def main():\n",
        "  print(\"Welcome to Aniket chatbot!\")\n",
        "  print(\"Type 'exit' to end the conversation.\")\n",
        "  while True:\n",
        "    user_input = input(\"You: \")\n",
        "    if user_input.lower() == \"exit\":\n",
        "      print(\"Chatbot: Goodbye!\")\n",
        "      break\n",
        "    response = chatbot_response(user_input)\n",
        "    print(f\"chatbot: {response}\")\n",
        "\n",
        "# Test and Iterate\n",
        "if __name__ == \"__main__\":\n",
        "  main()"
      ],
      "metadata": {
        "colab": {
          "base_uri": "https://localhost:8080/"
        },
        "id": "jqmuVDEoVpQG",
        "outputId": "c1268cc4-81c9-43d8-ca22-ea3d5a9621b2"
      },
      "execution_count": null,
      "outputs": [
        {
          "output_type": "stream",
          "name": "stdout",
          "text": [
            "Welcome to Aniket chatbot!\n",
            "Type 'exit' to end the conversation.\n",
            "You: weather\n",
            "chatbot: The weather is sunny with a chance of rainbows.\n",
            "You: exit\n",
            "Chatbot: Goodbye!\n"
          ]
        }
      ]
    }
  ]
}